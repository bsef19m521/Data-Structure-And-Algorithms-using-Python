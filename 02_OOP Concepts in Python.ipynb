{
 "cells": [
  {
   "cell_type": "markdown",
   "id": "add97af9",
   "metadata": {},
   "source": [
    "# OOP Concepts in Python\n",
    "- What is OOP?\n",
    "    - Benefits of OOP\n",
    "- How to structure OOP programs\n",
    "- Building blocks of OOP\n",
    "    - Classes\n",
    "    - Methods\n",
    "    - Objects\n",
    "    - Attributes\n",
    "- Four Principles of OOP\n",
    "    - Inheritance\n",
    "        - Benefits of Inheritance\n",
    "    - Encapsulation\n",
    "        - Private/Internal Interface\n",
    "        - Public/External Interface\n",
    "        - Benefits of Encapsulation\n",
    "    - Abstraction\n",
    "        - Benefits of Abstraction\n",
    "    - Polymorphism\n",
    "        - Method Overriding\n",
    "        - Method Overloading\n",
    "        - Benefits of Polymorphism"
   ]
  },
  {
   "cell_type": "code",
   "execution_count": null,
   "id": "29312339",
   "metadata": {},
   "outputs": [],
   "source": []
  },
  {
   "cell_type": "markdown",
   "id": "6bb7924f",
   "metadata": {},
   "source": [
    "### Simple Class"
   ]
  },
  {
   "cell_type": "code",
   "execution_count": 14,
   "id": "568dcad7",
   "metadata": {},
   "outputs": [],
   "source": [
    "class Point:\n",
    "#     In python constructors are defined using a special method called `__inti__`\n",
    "#     In constructor, we are passing two default parameters\n",
    "    def __init__(self, x=0,y=0):\n",
    "        self.x = x\n",
    "        self.y = y\n",
    "        \n",
    "    def __str__(self):\n",
    "        return '[' + str(self.x) + ','+str(self.y) + ']'"
   ]
  },
  {
   "cell_type": "code",
   "execution_count": 17,
   "id": "644cefe8",
   "metadata": {},
   "outputs": [
    {
     "name": "stdout",
     "output_type": "stream",
     "text": [
      "p1 :  0\n",
      "p2 :  2\n"
     ]
    }
   ],
   "source": [
    "# creating object/instance variable of the class\n",
    "# p1 is a reference/pointer variable\n",
    "p1 = Point()\n",
    "print(\"p1 : \", p1.x)\n",
    "\n",
    "p2 = Point(2,4)\n",
    "print(\"p2 : \", p2.x)"
   ]
  },
  {
   "cell_type": "code",
   "execution_count": 19,
   "id": "16063efb",
   "metadata": {},
   "outputs": [
    {
     "data": {
      "text/plain": [
       "<__main__.Point at 0x7f2efdaaa2e0>"
      ]
     },
     "execution_count": 19,
     "metadata": {},
     "output_type": "execute_result"
    }
   ],
   "source": [
    "p2\n",
    "# this shows that p2 is a reference object"
   ]
  },
  {
   "cell_type": "code",
   "execution_count": null,
   "id": "5cefd179",
   "metadata": {},
   "outputs": [],
   "source": []
  },
  {
   "cell_type": "code",
   "execution_count": null,
   "id": "bd176df7",
   "metadata": {},
   "outputs": [],
   "source": []
  },
  {
   "cell_type": "code",
   "execution_count": null,
   "id": "027fefa3",
   "metadata": {},
   "outputs": [],
   "source": []
  },
  {
   "cell_type": "code",
   "execution_count": null,
   "id": "9b690ab0",
   "metadata": {},
   "outputs": [],
   "source": []
  }
 ],
 "metadata": {
  "kernelspec": {
   "display_name": "Python 3 (ipykernel)",
   "language": "python",
   "name": "python3"
  },
  "language_info": {
   "codemirror_mode": {
    "name": "ipython",
    "version": 3
   },
   "file_extension": ".py",
   "mimetype": "text/x-python",
   "name": "python",
   "nbconvert_exporter": "python",
   "pygments_lexer": "ipython3",
   "version": "3.8.10"
  }
 },
 "nbformat": 4,
 "nbformat_minor": 5
}
