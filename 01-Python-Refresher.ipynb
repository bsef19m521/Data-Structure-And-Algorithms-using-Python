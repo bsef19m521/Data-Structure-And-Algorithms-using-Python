{
 "cells": [
  {
   "cell_type": "markdown",
   "id": "881e25b8",
   "metadata": {},
   "source": [
    "### What is Variable?"
   ]
  },
  {
   "cell_type": "code",
   "execution_count": 1,
   "id": "4e83b26a",
   "metadata": {},
   "outputs": [
    {
     "data": {
      "text/plain": [
       "10"
      ]
     },
     "execution_count": 1,
     "metadata": {},
     "output_type": "execute_result"
    }
   ],
   "source": [
    "# Variables\n",
    "x = 10\n",
    "x"
   ]
  },
  {
   "cell_type": "code",
   "execution_count": 3,
   "id": "4c4e073f",
   "metadata": {},
   "outputs": [
    {
     "name": "stdout",
     "output_type": "stream",
     "text": [
      "<class 'int'>\n",
      "<class 'float'>\n",
      "<class 'str'>\n",
      "<class 'bool'>\n",
      "<class 'complex'>\n"
     ]
    },
    {
     "data": {
      "text/plain": [
       "(5, 5.5, 'Ehtisham', True, (3+5j))"
      ]
     },
     "execution_count": 3,
     "metadata": {},
     "output_type": "execute_result"
    }
   ],
   "source": [
    "# datatypes\n",
    "# integer\n",
    "x = 5 \n",
    "# float\n",
    "y =5.5\n",
    "# string\n",
    "z = \"Ehtisham\"\n",
    "# boolean\n",
    "xy =True\n",
    "# complex\n",
    "yz = 3+5j\n",
    "\n",
    "\n",
    "print(type(x))\n",
    "print(type(y))\n",
    "print(type(z))\n",
    "print(type(xy))\n",
    "print(type(yz))\n",
    "\n",
    "x,y,z,xy,yz"
   ]
  },
  {
   "cell_type": "code",
   "execution_count": null,
   "id": "3b0e734a",
   "metadata": {},
   "outputs": [],
   "source": []
  }
 ],
 "metadata": {
  "kernelspec": {
   "display_name": "Python 3 (ipykernel)",
   "language": "python",
   "name": "python3"
  },
  "language_info": {
   "codemirror_mode": {
    "name": "ipython",
    "version": 3
   },
   "file_extension": ".py",
   "mimetype": "text/x-python",
   "name": "python",
   "nbconvert_exporter": "python",
   "pygments_lexer": "ipython3",
   "version": "3.8.10"
  }
 },
 "nbformat": 4,
 "nbformat_minor": 5
}
